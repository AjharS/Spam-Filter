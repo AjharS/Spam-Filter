{
 "cells": [
  {
   "cell_type": "code",
   "execution_count": 1,
   "metadata": {},
   "outputs": [],
   "source": [
    "import pandas as pd\n",
    "import numpy as np\n",
    "import matplotlib.pyplot as plt\n",
    "from collections import Counter\n",
    "from sklearn import feature_extraction, model_selection, naive_bayes, metrics, preprocessing\n",
    "from sklearn.svm import SVC,NuSVC\n",
    "from sklearn.neighbors import KNeighborsClassifier\n",
    "from sklearn.metrics import accuracy_score,confusion_matrix\n",
    "from sklearn.model_selection import cross_val_score , GridSearchCV,train_test_split\n",
    "from sklearn.feature_extraction.text import TfidfVectorizer\n",
    "from sklearn.ensemble import RandomForestClassifier,GradientBoostingClassifier,VotingClassifier\n",
    "from IPython.display import Image\n",
    "import re\n",
    "import pickle\n",
    "import warnings\n",
    "warnings.filterwarnings(\"ignore\")\n",
    "%matplotlib inline  "
   ]
  },
  {
   "cell_type": "code",
   "execution_count": 2,
   "metadata": {},
   "outputs": [
    {
     "name": "stderr",
     "output_type": "stream",
     "text": [
      "Using TensorFlow backend.\n"
     ]
    }
   ],
   "source": [
    "from keras.layers import Embedding, Dense, LSTM , Dropout\n",
    "from keras.models import Sequential\n",
    "import seaborn as sns; sns.set()"
   ]
  },
  {
   "cell_type": "code",
   "execution_count": 13,
   "metadata": {
    "scrolled": true
   },
   "outputs": [
    {
     "name": "stdout",
     "output_type": "stream",
     "text": [
      "      type                                               text\n",
      "0      ham  हर सामुदायिक स्तर पर ईमानदारी और कर्मठता से प्...\n",
      "1      ham  प्लेयर्स को लंबे समय तक बर्फ पर चलने से खुद को...\n",
      "2      ham  सज्जन! हम आपसे संपर्क करने का प्रयास कर रहे है...\n",
      "3     spam  राजश्री कावेरी लॉटरी घोषित होने के आधे घंटे बा...\n",
      "4      ham  धार्मिक पर्वों और उत्सवों की अभिवृद्धि के साथ-...\n",
      "5      ham  स्मार्टफोन के 4जीबी रैम वेरिएंट की कीमत 10,999...\n",
      "6      ham   किसी की धूर्तता, चालाकी, झूठ बात आदि से उत्पन...\n",
      "7      ham  विपक्ष कमज़ोर सरकार चाहता है ताकि देश को लूटा ...\n",
      "8      ham  बठिंडा में बोले सुखबीर बादल, किसानों से धोखा क...\n",
      "9      ham  परिवार के लोगों को स्थानीय लोगों और दमकल कर्मि...\n",
      "10     ham  दलाल स्ट्रीट की 'लेडी झुनझुनवाला' हैं डॉली खन्...\n",
      "11    spam  बिजनेस के दिन पर दिन टफ होते कॉम्‍पि‍टि‍शन में...\n",
      "12     ham  प्रायः सभी भारतीय पाठशालाओं में पढ़ाने का माध्...\n",
      "13     ham  अभी भी देर नहीं हुई है। हिंदी को अभी भी अपने स...\n",
      "14     ham  नेवले ने झट से, ज़ायदा आम लाने के लालच में बड़ी ...\n",
      "15     ham  उन्होंने यह भी दावा किया कि आगामी लोकसभा चुनाव...\n",
      "16     ham  इसी महा सम्मेलन में मॉरिशस तथा फीजी के ज़ोरदार...\n",
      "17     ham  आम नागरिक अभी तक महंगे चीजो और खाने बनाने की व...\n",
      "18     ham  जिन कर्मचारियों के पास यूएएन है उन्‍हें जरूरत ...\n",
      "19     ham  यूपी में एसपी-बीएसपी के गठबंधन पर प्रतिक्रिया ...\n",
      "20     ham  बिक्री कर (सेल्स टैक्स) सरकार किसी भी सामान की...\n",
      "21     ham  हिंदी दिवस, हिंदी सप्ताह, हिंदी पखवाड़े पर औपच...\n",
      "22     ham  बताया जा रहा है कि, जाकिर मूसा पहले आतंकवादी स...\n",
      "23     ham  भुवनेश्वर ने इस मैच के साथ ही पूरी सीरीज में ब...\n",
      "24     ham  इसी क्रम में भारतीय स्टेट बैंक पिछले कुछ दिनों...\n",
      "25     ham  पाठशालाओं के साथ लिखित साहित्य की ओर भी ध्यान ...\n",
      "26     ham  जिसके बाद हुआवेई की 16 फीसदी और एप्पल की 13 फी...\n",
      "27     ham  जिसके बाद काशीपुर ब्रिटिश भारत में एक राजस्व म...\n",
      "28    spam  स्क्रोल करते हुए अपने पेज में नीचे जाएं और प्र...\n",
      "29     ham  जबकि हिंदी का क ख ग उन्हें दूसरी कक्षा से ही स...\n",
      "...    ...                                                ...\n",
      "2970   ham  क्या आपको पता है कि बैंकों को फिर से 410 अरब र...\n",
      "2971   ham                  कुछ सेकेंड तक इस दुनिया से ग़ायब।\n",
      "2972   ham  यहां तक ​​कि मेरा भाई भी मेरे साथ बात करना पसं...\n",
      "2973  spam   इससे पहले कंपनी ने अगस्त 2018 में कीमत में 12...\n",
      "2974  spam   इलेक्ट्रॉनिक सामान पर ग्रेट इंडियन सेल के दौर...\n",
      "2975   ham  अंतर्राष्ट्रीय स्तर पर विदेशियों में हिंदी भाष...\n",
      "2976   ham                  धोखा खाने में स्वादिष्ट होता है ।\n",
      "2977  spam  अगर आपकी संख्या लॉटरी में निकले नंबरों से मैच ...\n",
      "2978  spam  राजस्थान सरकार पोस्टल सर्विस ने की नौकरी की घोषणा\n",
      "2979   ham  यह सुप्रसिद्ध छायावादी कवि श्री सुमित्रानंदन प...\n",
      "2980   ham  लेकिन अब उसी उग्रवादी की तस्वीर मुख्यमंत्री रघ...\n",
      "2981   ham  निश्चित रूप से भारतीय राष्ट्र की इमारत किसी वि...\n",
      "2982  spam   सेल..... सेल..... सेल...... सुनहरा मौका हाथ स...\n",
      "2983  spam  बिना बिके फ्लैट की है भरमार, इतने मूल्य के फ्ल...\n",
      "2984   ham   ओके डियर… मजाक कर रहे, अगर तुम पहुंच गए तो क्या…\n",
      "2985  spam  उड़ानों को सस्ता करने को सरकार कर रही है ये का...\n",
      "2986   ham                               एक और शब्द है ‘धोक’।\n",
      "2987  spam  ध्यान रखें कि कस्टम लेबल केवल आपके संदर्भ के ल...\n",
      "2988   ham  इस स्वर्णजयंती वर्ष पर आपने बहुत से संस्थानों ...\n",
      "2989   ham               भाई क्या है, एक पुरस्कृत सेमेस्टर है\n",
      "2990   ham  पंडित जी की कविताओं ने सिर्फ़ कल्पनाओं में विहा...\n",
      "2991   ham  कुछ देर के बाद सब ठीक हो जाता है। इसका स्वास्थ...\n",
      "2992  spam  लो-प्रोफाइल इनवेस्टर ने एक अंग्रेजी अखबार को ब...\n",
      "2993   ham  जय फीजी के माध्यम से पंडित जी ने फीजी में हिंद...\n",
      "2994   ham               अभी भी बहुत कुछ संभल और संवर सकता है\n",
      "2995   ham  हाय इट्स केट आपकी शाम कैसी है? मुझे आशा है कि ...\n",
      "2996  spam  एक अधिकारी के अनुसार, यदि किसी लॉटरी एजेंट ने ...\n",
      "2997  spam  शॉपिंग अभियान बनाते समय आप निर्णय लेते हैं कि ...\n",
      "2998   ham  इसके साथ ही छुप कर अटैक करने का भी एक अलग रोमा...\n",
      "2999  spam   पहले लॉटरी टिकट ने ही इस भारतीय को रातोंरात ब...\n",
      "\n",
      "[3000 rows x 2 columns]\n"
     ]
    }
   ],
   "source": [
    "train = pd.read_excel(\"/home/pallav/Desktop/PROJECT/hindi_spam.xlsx\")\n",
    "print(train)"
   ]
  },
  {
   "cell_type": "code",
   "execution_count": 14,
   "metadata": {
    "collapsed": true
   },
   "outputs": [
    {
     "name": "stdout",
     "output_type": "stream",
     "text": [
      "Frequency of spam and ham E-Mails:\n",
      " ham     2100\n",
      "spam     900\n",
      "Name: type, dtype: int64\n"
     ]
    },
    {
     "data": {
      "image/png": "[encoded data removed]",
      "text/plain": [
       "<Figure size 432x288 with 1 Axes>"
      ]
     },
     "metadata": {},
     "output_type": "display_data"
    },
    {
     "data": {
      "image/png": "[encoded data removed]",
      "text/plain": [
       "<Figure size 432x288 with 1 Axes>"
      ]
     },
     "metadata": {},
     "output_type": "display_data"
    }
   ],
   "source": [
    "print(\"Frequency of spam and ham E-Mails:\\n\",train['type'].value_counts())\n",
    "count_Class=pd.value_counts(train[\"type\"], sort= True)\n",
    "count_Class.plot(kind = 'pie',  autopct='%1.0f%%')\n",
    "plt.title('Pie chart')\n",
    "plt.ylabel('')\n",
    "plt.show()\n",
    "count_Class.plot(kind= 'bar', color= [\"blue\", \"orange\"])\n",
    "plt.title('Bar chart')\n",
    "plt.show()"
   ]
  },
  {
   "cell_type": "markdown",
   "metadata": {},
   "source": [
    "# REMOVING PUNCTUATIONS , DIGITS & ENGLISH LETTERS"
   ]
  },
  {
   "cell_type": "code",
   "execution_count": 15,
   "metadata": {},
   "outputs": [],
   "source": [
    "def purify(doc):\n",
    "    punctuations = '''!@#$£%^&*()\"':-+_=“”/?><|।.,\\{}[]'''\n",
    "    digits = '''1234567890०१२३४५६७८९'''\n",
    "    english = '''abcdefghijklmnopqrstuvwxyzABCCDEFGHIJKLMNOPQRSTUVWXYZ'''\n",
    "    data_no_punc = \"\"\n",
    "    for char in doc:\n",
    "        if(char not in punctuations and char not in digits and char not in english):\n",
    "            data_no_punc = data_no_punc + char\n",
    "    return data_no_punc\n",
    "i=0\n",
    "for e in train['text']:\n",
    "    train['text'][i]=''.join(list(map(purify,e)))\n",
    "    train['text'][i]=train['text'][i].split()\n",
    "    i=i+1"
   ]
  },
  {
   "cell_type": "markdown",
   "metadata": {},
   "source": [
    "# REMOVING STOP-WORDS"
   ]
  },
  {
   "cell_type": "code",
   "execution_count": 16,
   "metadata": {
    "scrolled": true
   },
   "outputs": [],
   "source": [
    "# stopwords = open('stopwords-hi-master/stopwords-hi.txt','r')\n",
    "with open('/home/pallav/Desktop/PROJECT/stopwords-hi.txt') as f:\n",
    "    stopwords = f.read()\n",
    "# stwords=stopwords.read()\n",
    "words = re.sub('\\n',' ',stopwords)\n",
    "word = words.split()\n",
    "\n",
    "def rem_stop(doc):\n",
    "    clearW = [wor for wor in doc if wor not in word]\n",
    "    return clearW\n",
    "\n",
    "train['text']=list(map(rem_stop,train['text']))"
   ]
  },
  {
   "cell_type": "markdown",
   "metadata": {},
   "source": [
    "# REMOVING SUFFIXES"
   ]
  },
  {
   "cell_type": "code",
   "execution_count": 17,
   "metadata": {
    "collapsed": true
   },
   "outputs": [
    {
     "name": "stdout",
     "output_type": "stream",
     "text": [
      "      type                                               text\n",
      "0      ham             हर सामुद स्तर ईमानदार कर्मठ प्रयास किए\n",
      "1      ham                प्लेयर्स लंब समय बर्फ चल खुद बच चाह\n",
      "2      ham  सज्जन संपर्क प्रयास पिछल सप्ताहांत पत चल पुरस्...\n",
      "3     spam  राजश्र कावेर लॉटर घोषित आध घंट या शाम बज गोव ल...\n",
      "4      ham  धार पर्व उत्सव अभिवृद्ध साथसाथ राष्ट्र अनेक इल...\n",
      "5      ham  स्मार्टफोन जीब रैम वेरिएंट कीमत रुपए जीब रैम व...\n",
      "6      ham           धूर्त चालाक झूठ बात उत्पन्न मिथ्य प्रतीत\n",
      "7      ham                विपक्ष कमज़ोर सर चाह ताक देश लूट सक\n",
      "8      ham  बठिंड बोल सुखबीर बादल किसान धोख आरोप कैप्टन दर...\n",
      "9      ham  परिवार लोग स्थान लोग दमकल कर्म कूड़ ढेर बाहर न...\n",
      "10     ham  दलाल स्ट्रीट लेड झुनझुन डॉल खन् सिर्फ शेयर लग पैस\n",
      "11    spam  बिजनेस दिन दिन टफ कॉम्‍पि‍टि‍शन सुपरमार्केट हा...\n",
      "12     ham  प्रायः भारत पाठशाल पढ़ माध्यम हिंद वर्ष पर्यंत...\n",
      "13     ham                        देर हिंद सहज रूप बढ़ ज़रूरत\n",
      "14     ham              नेवल झट ज़ायद आम ला लालच बड़ टोकर उठ ली\n",
      "15     ham  उन्हों दाव आगाम लोकसभ चुनाव एसपीबीएसप गठबंधन क...\n",
      "16     ham  मह सम्मेलन मॉरिशस तथ फीज ज़ोर प्रस्त फलस्वरूप ...\n",
      "17     ham              आम ना महंग चीज खा बन वाल गैस महंग परे\n",
      "18     ham  कर्मचार पास यूएएन उन्‍ह जरूरत हिसाब अलगअलग फॉर...\n",
      "19     ham          यूप एसपीबीएसप गठबंधन प्रतिक्र दे सीएम योग\n",
      "20     ham            बिक्र सेल्स टैक्स सर सा खरीदफरोख्त वसूल\n",
      "21     ham  हिंद दिवस हिंद सप्ताह हिंद पखवाड़ औपच फातिह पढ...\n",
      "22     ham  बत जाकिर मूस आतंकवाद संगठन हिज्बुल मुजाहिदीन जुड़\n",
      "23     ham     भुवनेश्वर मैच पूर सीरीज बेहद जिम्मेदार गेंदबाज\n",
      "24     ham  क्रम भारत स्टेट बैंक पिछल दिन ग्राहक मोबाइल नं...\n",
      "25     ham              पाठशाल लिखित साहित्य ध् आकर्षित स्वाभ\n",
      "26     ham         हुआवेई फीसद एप्पल फीसद बाजार हिस्सेदार होग\n",
      "27     ham               काशीपुर ब्रिटिश भारत राजस्व मण्डल बन\n",
      "28    spam            स्क्रोल पेज जा प्रोम कोड प्रबंधित क्लिक\n",
      "29     ham  जबक हिंद क ख ग दूसर कक्ष सिख जा अखर लग अतिरिक्...\n",
      "...    ...                                                ...\n",
      "2970   ham                               पत बैंक अरब रुपय दिए\n",
      "2971   ham                                   सेकेंड दुन ग़ायब\n",
      "2972   ham                     ​​क भाई बात पसंद एड्स मरीज मान\n",
      "2973  spam                   इसस कंप अगस्त कीमत हजार रुपय कटौ\n",
      "2974  spam  इलेक्ट्र सा ग्रेट इंडियन सेल दौ प्रतिशत छूट दी...\n",
      "2975   ham  अंतर्राष्ट्र स्तर विदेश हिंद भाष सीख जान वाल स...\n",
      "2976   ham                                   धोख खा स्वादिष्ट\n",
      "2977  spam   अगर आपक संख्य लॉटर निकल नंबर मैच गई पैस संभाव कम\n",
      "2978  spam                   राजस् सर पोस्टल सर्विस नौकर घोषण\n",
      "2979   ham  सुप्रसिद्ध छायावाद कव श्र सुमित्रानंदन पंत सुप...\n",
      "2980   ham       उग्रवाद तस्वीर मुख्यमंत्र रघुवर दास वायरल रह\n",
      "2981   ham  निश्चित रूप भारत राष्ट्र इमारत विदेश भाष नींव खड़\n",
      "2982  spam                      सेल सेल सेल सुनहर मौक हाथ जाए\n",
      "2983  spam   बि बिक फ्लैट भरमार इत मूल्य फ्लैट्स बिक्र इंतजार\n",
      "2984   ham                      ओक डियर… मजाक अगर पहुंच क्या…\n",
      "2985  spam              उड़ान सस् सर रह काम आसान होग हव यात्र\n",
      "2986   ham                                         शब्द ‘धोक’\n",
      "2987  spam                          ध् कस्टम लेबल केवल संदर्भ\n",
      "2988   ham  स्वर्णजयं वर्ष संस्थान लिफ़ाफ़ छप देख हिंद दुन...\n",
      "2989   ham                              भाई पुरस्कृत सेमेस्टर\n",
      "2990   ham  पंडित जी कवि सिर्फ़ कल्प वि अपित धर उतर यथार्थ ...\n",
      "2991   ham             देर सब ठीक जा स्वास्थ्य विपरीत असर पड़\n",
      "2992  spam  लोप्रोफाइल इनवेस्टर अंग्रेज अखबार बत डॉल होममे...\n",
      "2993   ham  जय फीज माध्यम पंडित जी फीज हिंद भाष साहित्य ज्...\n",
      "2994   ham                                          संभल संवर\n",
      "2995   ham  हाय इट्स केट आपक शाम आश कल देख पास बेब जोंटेट ...\n",
      "2996  spam  अधिकार अनुसार लॉटर एजेंट दिन भर दस हजार रुपय ऑ...\n",
      "2997  spam  शॉपिंग अभि बन समय निर्णय ले प्रत्येक क्लिक भुग...\n",
      "2998   ham                            छुप अटैक अलग रोमांच मिल\n",
      "2999  spam            लॉटर टिकट भारत रातोंरात बन दुबई करोड़पत\n",
      "\n",
      "[3000 rows x 2 columns]\n"
     ]
    }
   ],
   "source": [
    "suffixes = {\n",
    "    1: [\"ो\", \"े\", \"ू\", \"ु\", \"ी\", \"ि\", \"ा\"],\n",
    "    2: [\"कर\", \"ाओ\", \"िए\", \"ाई\", \"ाए\", \"ने\", \"नी\", \"ना\", \"ते\", \"ीं\", \"ती\",\"एं\", \"ता\", \"ाँ\", \"ां\", \"ों\", \"ें\",\"ओं\",\"ाना\",\n",
    "        \"ाऊ\",\"लु\",\"ाव\",\"ीय\",\"हट\"],\n",
    "    3: [\"ाकर\", \"ाइए\", \"ाईं\", \"ाया\", \"ेगी\", \"ेगा\", \"ोगी\", \"ोगे\", \"ाने\", \"ाना\", \"ाते\", \"ाती\", \"ाता\", \"तीं\", \"ाओं\",\n",
    "        \"ाएं\", \"ुओं\", \"ुएं\", \"ुआं\",\"दार\",\"िया\",\"हार\",\"ावट\",\"ोला\",\"कार\",\"ान\",\"ौटी\",\"ैया\",\"ेरा\",\"ोड़ा\"],\n",
    "    4: [\"ाएगी\", \"ाएगा\", \"ाओगी\", \"ाओगे\", \"एंगी\", \"ेंगी\", \"एंगे\", \"ेंगे\", \"ूंगी\", \"ूंगा\", \"ातीं\", \"नाओं\", \"नाएं\", \"ताओं\",\n",
    "        \"ताएं\", \"ियाँ\", \"ियों\", \"ियां\",\"वाला\",\"िक\"],\n",
    "    5: [\"ाएंगी\", \"ाएंगे\", \"ाऊंगी\", \"ाऊंगा\", \"ाइयाँ\", \"ाइयों\", \"ाइयां\",\"क्कड़\"]\n",
    "}\n",
    "\n",
    "def hi_stem(lst):\n",
    "    txt = []\n",
    "    for word in lst: \n",
    "        flag = 0\n",
    "        for L in 5, 4, 3, 2, 1:\n",
    "            if len(word) > L + 1:\n",
    "                for suf in suffixes[L]:\n",
    "                    if word.endswith(suf):\n",
    "                        word = word[:-L]\n",
    "                        flag = 1\n",
    "                        break\n",
    "                if flag == 1:\n",
    "                    break\n",
    "        txt.append(word)      \n",
    "    return txt\n",
    "\n",
    "email = []\n",
    "email = (list(map(hi_stem,train['text'])))\n",
    "train['text']= email\n",
    "\n",
    "for  i in range(0,train['text'].shape[0]):\n",
    "    train['text'][i] = ' '.join(train['text'][i])\n",
    "\n",
    "print(train)"
   ]
  },
  {
   "cell_type": "code",
   "execution_count": 20,
   "metadata": {},
   "outputs": [],
   "source": [
    "# train_x,valid_x,train_y,valid_y = train_test_split(train['text'],train['type'],test_size=0.2,stratify=train['type'].values,random_state=2)\n",
    "encoder = preprocessing.LabelEncoder()\n",
    "train_y = encoder.fit_transform(train['type'])\n",
    "# valid_y = encoder.fit_transform(valid_y)"
   ]
  },
  {
   "cell_type": "code",
   "execution_count": 21,
   "metadata": {
    "scrolled": true
   },
   "outputs": [],
   "source": [
    "# tfidf_vect = TfidfVectorizer(analyzer='word', token_pattern=r'\\w{1,}', max_features=10000)\n",
    "# tfidf_vect.fit(train['text'])\n",
    "# x_tfidf = tfidf_vect.transform(train.text)\n",
    "# xtrain_tfidf =  tfidf_vect.transform(train_x)\n",
    "# xvalid_tfidf =  tfidf_vect.transform(valid_x)\n",
    "\n",
    "# ngram level tf-idf \n",
    "tfidf_vect_ngram = TfidfVectorizer(analyzer='word', token_pattern=r'\\w{1,}', ngram_range=(1,3), max_features=10000)\n",
    "train_tfid = tfidf_vect_ngram.fit_transform(train['text'])\n",
    "# x_tfidf_ngram = tfidf_vect_ngram.transform(train.text)\n",
    "# xtrain_tfidf_ngram =  tfidf_vect_ngram.transform(train_x)\n",
    "# xvalid_tfidf_ngram =  tfidf_vect_ngram.transform(valid_x)"
   ]
  },
  {
   "cell_type": "code",
   "execution_count": 22,
   "metadata": {},
   "outputs": [],
   "source": [
    "def train_model(classifier, feature_vector_train, label, feature_vector_valid, is_neural_net=False):\n",
    "    # fit the training dataset on the classifier\n",
    "    classifier.fit(feature_vector_train, label)\n",
    "    \n",
    "    # predict the labels on validation dataset\n",
    "    predictions = classifier.predict(feature_vector_valid)\n",
    "    \n",
    "    if is_neural_net:\n",
    "        predictions = predictions.argmax(axis=-1)\n",
    "    \n",
    "    return metrics.accuracy_score(predictions, valid_y),confusion_matrix(valid_y, predictions)"
   ]
  },
  {
   "cell_type": "code",
   "execution_count": 11,
   "metadata": {},
   "outputs": [
    {
     "name": "stdout",
     "output_type": "stream",
     "text": [
      "NB, N-Gram Vectors:  (0.885, array([[390,  30],\n",
      "       [ 39, 141]]))\n"
     ]
    }
   ],
   "source": [
    "# Naive Bayes on Ngram Level TF IDF Vectors\n",
    "NBAccuracy = train_model(naive_bayes.BernoulliNB(), xtrain_tfidf_ngram, train_y, xvalid_tfidf_ngram)\n",
    "print(\"NB, N-Gram Vectors: \", NBAccuracy)"
   ]
  },
  {
   "cell_type": "code",
   "execution_count": 12,
   "metadata": {},
   "outputs": [
    {
     "name": "stdout",
     "output_type": "stream",
     "text": [
      "SVC, N-gram TF-IDF:  (0.895, array([[404,  16],\n",
      "       [ 47, 133]]))\n"
     ]
    }
   ],
   "source": [
    "# SVM SVC on Ngram Level TF IDF Vectors\n",
    "SVCAccuracy = train_model(SVC(kernel='linear'),xtrain_tfidf_ngram, train_y, xvalid_tfidf_ngram)\n",
    "print(\"SVC, N-gram TF-IDF: \", SVCAccuracy)"
   ]
  },
  {
   "cell_type": "code",
   "execution_count": 13,
   "metadata": {},
   "outputs": [
    {
     "name": "stdout",
     "output_type": "stream",
     "text": [
      "SVC, N-gram TF-IDF:  (0.88, array([[414,   6],\n",
      "       [ 66, 114]]))\n"
     ]
    }
   ],
   "source": [
    "# SVM NuSVC on Ngram Level TF IDF Vectors\n",
    "NuSVCAccuracy = train_model(NuSVC(kernel='linear',probability=True),xtrain_tfidf_ngram, train_y, xvalid_tfidf_ngram)\n",
    "print(\"SVC, N-gram TF-IDF: \", NuSVCAccuracy)"
   ]
  },
  {
   "cell_type": "code",
   "execution_count": 14,
   "metadata": {},
   "outputs": [
    {
     "name": "stdout",
     "output_type": "stream",
     "text": [
      "RF, N-gram TF-IDF:  (0.8916666666666667, array([[409,  11],\n",
      "       [ 54, 126]]))\n"
     ]
    }
   ],
   "source": [
    "# RF on n-grams Level TF IDF Vectors\n",
    "RFAccuracy = train_model(RandomForestClassifier(n_estimators=250,min_samples_split=10), xtrain_tfidf_ngram, train_y, xvalid_tfidf_ngram)\n",
    "print(\"RF, N-gram TF-IDF: \", RFAccuracy)"
   ]
  },
  {
   "cell_type": "code",
   "execution_count": 15,
   "metadata": {},
   "outputs": [
    {
     "name": "stdout",
     "output_type": "stream",
     "text": [
      "Gradient Boost, N-Grams Vectors:  (0.88, array([[407,  13],\n",
      "       [ 59, 121]]))\n"
     ]
    }
   ],
   "source": [
    "# GB on n-grams Level TF IDF Vectors\n",
    "GBAccuracy = train_model(GradientBoostingClassifier(n_estimators=250,min_samples_split=200), xtrain_tfidf_ngram.tocsc(), train_y, xvalid_tfidf_ngram.tocsc())\n",
    "print(\"Gradient Boost, N-Grams Vectors: \", GBAccuracy)"
   ]
  },
  {
   "cell_type": "code",
   "execution_count": 16,
   "metadata": {},
   "outputs": [
    {
     "name": "stdout",
     "output_type": "stream",
     "text": [
      "KNN, N-gram TF-IDF:  (0.8866666666666667, array([[399,  21],\n",
      "       [ 47, 133]]))\n"
     ]
    }
   ],
   "source": [
    "# KNN on n-grams Level TF IDF Vectors\n",
    "KNNAccuracy = train_model(KNeighborsClassifier(n_neighbors=10),xtrain_tfidf_ngram, train_y, xvalid_tfidf_ngram)\n",
    "print(\"KNN, N-gram TF-IDF: \", KNNAccuracy)"
   ]
  },
  {
   "cell_type": "code",
   "execution_count": 17,
   "metadata": {},
   "outputs": [
    {
     "name": "stdout",
     "output_type": "stream",
     "text": [
      "Stacking, N-gram TF-IDF:  (0.9033333333333333, array([[404,  16],\n",
      "       [ 42, 138]]))\n"
     ]
    }
   ],
   "source": [
    "# Stacking using all above algos\n",
    "Stack_Accuracy = train_model(VotingClassifier(estimators=[('SVC', SVC(kernel='linear',probability=True).fit(xtrain_tfidf_ngram, train_y)), ('RF', RandomForestClassifier(n_estimators=250,min_samples_split=3).fit(xtrain_tfidf_ngram, train_y)),('KNN',KNeighborsClassifier(n_neighbors=10).fit(xtrain_tfidf_ngram, train_y)),('NB',naive_bayes.BernoulliNB().fit(xtrain_tfidf_ngram, train_y)),('NuSVC',NuSVC(kernel='linear',probability=True).fit(xtrain_tfidf_ngram, train_y)),('GB',GradientBoostingClassifier(n_estimators=250,min_samples_split=200).fit(xtrain_tfidf_ngram, train_y))], voting='soft',weights=[6,5,4,3,2,1]), xtrain_tfidf_ngram, train_y, xvalid_tfidf_ngram)\n",
    "print(\"Stacking, N-gram TF-IDF: \", Stack_Accuracy)"
   ]
  },
  {
   "cell_type": "code",
   "execution_count": 23,
   "metadata": {},
   "outputs": [],
   "source": [
    "NBModel = naive_bayes.BernoulliNB().fit(x_tfidf_ngram,train['type'])\n",
    "SVCModel = SVC(kernel='linear',probability=True).fit(x_tfidf_ngram,train['type'])\n",
    "NuSVCModel = NuSVC(kernel='linear',probability=True).fit(x_tfidf_ngram,train['type'])\n",
    "RFModel = RandomForestClassifier(n_estimators=250,min_samples_split=3).fit(x_tfidf_ngram,train['type'])\n",
    "GBModel = GradientBoostingClassifier(n_estimators=250,min_samples_split=200).fit(x_tfidf_ngram,train['type'])\n",
    "KNNModel = KNeighborsClassifier(n_neighbors=10).fit(x_tfidf_ngram,train['type'])\n",
    "StackModel = VotingClassifier(estimators=[('SVC', SVCModel), ('RF', RFModel),('KNN',KNNModel),('NB',NBModel),('NuSVC',NuSVCModel),('GB',GBModel)], voting='soft',weights=[6,5,4,3,2,1]).fit(x_tfidf_ngram,train['type'])"
   ]
  },
  {
   "cell_type": "code",
   "execution_count": 19,
   "metadata": {},
   "outputs": [],
   "source": [
    "f1 = \"/home/pallav/project_work/Models/NB.sav\"\n",
    "pickle.dump(NBModel,open(f1,'wb'))\n",
    "\n",
    "f2 = \"/home/pallav/project_work/Models/SVC.sav\"\n",
    "pickle.dump(SVCModel,open(f2,'wb'))\n",
    "\n",
    "f3 = \"/home/pallav/project_work/Models/NuSVC.sav\"\n",
    "pickle.dump(NuSVCModel,open(f3,'wb'))\n",
    "\n",
    "f4 = \"/home/pallav/project_work/Models/RF.sav\"\n",
    "pickle.dump(RFModel,open(f4,'wb'))\n",
    "\n",
    "f5 = \"/home/pallav/project_work/Models/GB.sav\"\n",
    "pickle.dump(GBModel,open(f5,'wb'))\n",
    "\n",
    "f6 = \"/home/pallav/project_work/Models/KNN.sav\"\n",
    "pickle.dump(GBModel,open(f6,'wb'))\n",
    "\n",
    "f7 = \"/home/pallav/project_work/Models/Stack.sav\"\n",
    "pickle.dump(GBModel,open(f7,'wb'))"
   ]
  },
  {
   "cell_type": "code",
   "execution_count": 20,
   "metadata": {},
   "outputs": [],
   "source": [
    "with open(\"Models/Stack.sav\",'rb') as f17:\n",
    "    load_stack = pickle.load(f17)"
   ]
  },
  {
   "cell_type": "code",
   "execution_count": 24,
   "metadata": {},
   "outputs": [
    {
     "name": "stdout",
     "output_type": "stream",
     "text": [
      "आपने लॉटरी जीती है\n",
      "['लॉटरी', 'जीती']\n",
      "['लॉटर', 'जी']\n"
     ]
    },
    {
     "data": {
      "text/plain": [
       "'लॉटर जी'"
      ]
     },
     "execution_count": 24,
     "metadata": {},
     "output_type": "execute_result"
    }
   ],
   "source": [
    "str = 'आपने लॉटरी जीती है'\n",
    "str=purify(str)\n",
    "print(str)\n",
    "str=str.split()\n",
    "str=rem_stop(str)\n",
    "print(str)\n",
    "str = hi_stem(str)\n",
    "print(str)\n",
    "str = ' '.join(str)\n",
    "str"
   ]
  },
  {
   "cell_type": "code",
   "execution_count": 25,
   "metadata": {},
   "outputs": [],
   "source": [
    "l = []\n",
    "l.append(str)\n",
    "str_tfidf_ngram = tfidf_vect_ngram.transform(l)"
   ]
  },
  {
   "cell_type": "code",
   "execution_count": 26,
   "metadata": {},
   "outputs": [
    {
     "data": {
      "text/plain": [
       "array(['spam'], dtype=object)"
      ]
     },
     "execution_count": 26,
     "metadata": {},
     "output_type": "execute_result"
    }
   ],
   "source": [
    "StackModel.predict(str_tfidf_ngram)"
   ]
  },
  {
   "cell_type": "code",
   "execution_count": null,
   "metadata": {},
   "outputs": [],
   "source": []
  }
 ],
 "metadata": {
  "kernelspec": {
   "display_name": "Python 3",
   "language": "python",
   "name": "python3"
  },
  "language_info": {
   "codemirror_mode": {
    "name": "ipython",
    "version": 3
   },
   "file_extension": ".py",
   "mimetype": "text/x-python",
   "name": "python",
   "nbconvert_exporter": "python",
   "pygments_lexer": "ipython3",
   "version": "3.6.7"
  }
 },
 "nbformat": 4,
 "nbformat_minor": 2
}
